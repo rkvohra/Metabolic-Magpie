{
  "nbformat": 4,
  "nbformat_minor": 0,
  "metadata": {
    "colab": {
      "name": "procurement_keyproduct_matching.ipynb",
      "provenance": [],
      "collapsed_sections": []
    },
    "kernelspec": {
      "name": "python3",
      "display_name": "Python 3"
    }
  },
  "cells": [
    {
      "cell_type": "markdown",
      "metadata": {
        "id": "VyntSM8ZCgI7"
      },
      "source": [
        "## **Library Imports**"
      ]
    },
    {
      "cell_type": "code",
      "metadata": {
        "id": "e91gqBcDAF7q",
        "cellView": "form"
      },
      "source": [
        "# @markdown This cell installs and loads the required libraries and connects to Google Drive. Running this cell will ask you to authenticate using your google account credentials.\n",
        "\n",
        "# connect to google sheets through a sheet URL\n",
        "from google.colab import auth\n",
        "auth.authenticate_user()\n",
        "import gspread\n",
        "from oauth2client.client import GoogleCredentials\n",
        "gc = gspread.authorize(GoogleCredentials.get_application_default())\n",
        "\n",
        "# install and load fuzzywuzzy\n",
        "!pip install fuzzywuzzy[speedup]\n",
        "from fuzzywuzzy import fuzz\n",
        "\n",
        "# load other libraries\n",
        "import pandas as pd\n",
        "from datetime import datetime\n",
        "import pytz\n",
        "import time\n",
        "\n",
        "#parallel processing\n",
        "!pip install pandarallel\n",
        "from pandarallel import pandarallel\n",
        "pandarallel.initialize()\n",
        "\n",
        "# clears the output of this cell block\n",
        "from IPython.display import clear_output\n",
        "clear_output()"
      ],
      "execution_count": null,
      "outputs": []
    },
    {
      "cell_type": "markdown",
      "metadata": {
        "id": "tHs59NX4IEGn"
      },
      "source": [
        "## **Data Connections**"
      ]
    },
    {
      "cell_type": "code",
      "metadata": {
        "id": "1rW8X495khP2",
        "cellView": "form"
      },
      "source": [
        "# @markdown This cell connects to your analysis sheet. Paste the link here and run.\n",
        "analysis_url = 'https://docs.google.com/spreadsheets/d/1R09CkSXedn6paLk8q3qUAYiCFp1g84K05Wu6JxfgDF0/edit#gid=0' #@param {type:\"string\"}\n",
        "analysis_ws = 'Matching'\n",
        "admin_ws = 'Admin'"
      ],
      "execution_count": null,
      "outputs": []
    },
    {
      "cell_type": "code",
      "metadata": {
        "id": "5YNmTwDthpSZ",
        "cellView": "form",
        "outputId": "7dc1f671-56ce-430a-930f-b57ea0f6205c",
        "colab": {
          "base_uri": "https://localhost:8080/",
          "height": 34
        }
      },
      "source": [
        "# @markdown This cell collects the key products and associated keyworks from MAIA.\n",
        "\n",
        "# Connect to MAIA\n",
        "maia_url = 'https://docs.google.com/spreadsheets/d/1zit8jJhj7ccbX9P4iiXaW3Fxs5ITrEaZ6UZCw9isEAQ/'       #id of MAIA spreadsheet with key products\n",
        "maia_ws = 'DB_KeyProd'                #worksheet with list\n",
        "\n",
        "# Import the MAIA data from google sheets\n",
        "wb_maia = gc.open_by_url(maia_url)\n",
        "sheet_maia = wb_maia.worksheet(maia_ws)\n",
        "row = 5\n",
        "col = 1\n",
        "maia_df = pd.DataFrame(sheet_maia.get_all_values(),columns=sheet_maia.row_values(row)).iloc[row:].reset_index(drop=True)\n",
        "\n",
        "#make df with key products, keywords\n",
        "df_key = maia_df[[\"Key Product\", \"Keywords\"]].reset_index(drop=True)\n",
        "df_key.columns = ['key_product','keywords','keyword_count']\n",
        "\n",
        "# split the keyword string to a list\n",
        "df_key[\"keywords\"]=df_key[\"keywords\"].str.split(\";\")\n",
        "\n",
        "# add the keyproduct name to the keyword list and remove blanks\n",
        "def append_keyprod(x):\n",
        "  x[\"keywords\"].append(x[\"key_product\"])\n",
        "  x['keywords'] = list(filter(None, x['keywords']))\n",
        "  return x\n",
        "\n",
        "df_key = df_key.apply(append_keyprod,axis=1)\n",
        "\n",
        "print(\"%s key products loaded\" % df_key.key_product.count())"
      ],
      "execution_count": null,
      "outputs": [
        {
          "output_type": "stream",
          "text": [
            "725 key products loaded\n"
          ],
          "name": "stdout"
        }
      ]
    },
    {
      "cell_type": "markdown",
      "metadata": {
        "id": "F_1rO7AUiZqg"
      },
      "source": [
        "## **Algorithm Settings**"
      ]
    },
    {
      "cell_type": "code",
      "metadata": {
        "id": "J1n6N919iVTj",
        "cellView": "form"
      },
      "source": [
        "# @markdown This cell sets some algorithm settings. Don't change these unless you know what you're doing.\n",
        "\n",
        "# @markdown **Fuzzy logic algorithm:** 'simple', 'partial', 'sort', or 'set'. The 'set' algorithm performs the best\n",
        "fw_routine = 'set' #@param ['simple','partial','sort','set']\n",
        "\n",
        "# @markdown **Single pass matching:** If TRUE, objects with multiple perfect matches have the first one selected. If FALSE, they are matched again with another algorithm to choose the best one.\n",
        "single_pass = 'False' #@param ['True', 'False']\n",
        "\n",
        "# @markdown [Not implemented yet] **Rerun:** If TRUE, rerun everything. If FALSE, only entries that are new (don't have a match)\n",
        "rerun = 'True' #@param ['True','False']\n"
      ],
      "execution_count": null,
      "outputs": []
    },
    {
      "cell_type": "markdown",
      "metadata": {
        "id": "mlmEFTYcIHRD"
      },
      "source": [
        "## **Functions**"
      ]
    },
    {
      "cell_type": "code",
      "metadata": {
        "id": "EaOZh9hTC_K-",
        "cellView": "form"
      },
      "source": [
        "# @markdown This cell defines the necessary functions.\n",
        "\n",
        "def run_fuzzywuzzy (keyproduct,item,method):\n",
        "  try:\n",
        "    scores = []\n",
        "    for keyword in keyproduct[\"keywords\"]:\n",
        "      if method == 'simple':\n",
        "        scores.append(fuzz.ratio(item, keyword))\n",
        "      elif method == 'partial':\n",
        "        scores.append(fuzz.partial_ratio(item, keyword))\n",
        "      elif method == 'sort':\n",
        "        scores.append(fuzz.token_sort_ratio(item, keyword))\n",
        "      elif method == 'set':\n",
        "        scores.append(fuzz.token_set_ratio(item, keyword))\n",
        "    return max(scores)\n",
        "  except:\n",
        "    return 0\n",
        "\n",
        "# match an individual object name to a keyproduct\n",
        "def match_individual (item, df_key, method):\n",
        "  df_scores = pd.Series(dtype='string')\n",
        "  df_scores = df_key.apply(run_fuzzywuzzy,args = [item,method], axis = 1)\n",
        "  return list(df_scores)\n",
        "\n",
        "# use the single pass matching method\n",
        "# if an item gets multiple 100% matches, only the first is selected\n",
        "def single_pass_matching(x, df_key, method):\n",
        "  # df_key: dataframe column of keyproducts\n",
        "  # method: which fuzzy logic routine to run\n",
        "  scores = match_individual(x[\"objects\"], df_key, method)\n",
        "  x['match'] = df_key[\"key_product\"][scores.index(max(scores))]\n",
        "  x['score'] = max(scores)\n",
        "  x['keyword_count'] = df_key[\"keyword_count\"][scores.index(max(scores))]\n",
        "  return x\n",
        "\n",
        "# use the multi pass matching method\n",
        "# if an item gets multiple 100% matches, the fuzzy wuzzy'sort' method is used on the 100% matches\n",
        "def double_pass_matching(x, df_key, method):\n",
        "  # df_keyprod: dataframe column of keyproducts\n",
        "  # method: fuzzywuzzy routine to match strings; 'simple', 'partial', 'sort', or 'set'\n",
        "\n",
        "  first_scores = match_individual(x[\"objects\"], df_key, fw_routine)  \n",
        "  matches = []\n",
        "  for i in range(len(first_scores)):\n",
        "    if first_scores[i] == 100:\n",
        "      matches.append(df_key.iloc[i])\n",
        "  df_matches = pd.DataFrame(matches).reset_index(drop=True)\n",
        "  \n",
        "  if len(matches)>1:\n",
        "    second_scores = match_individual(x['objects'],df_matches,'sort')\n",
        "    result = [df_matches['key_product'][second_scores.index(max(second_scores))], 100, df_matches['keyword_count'][second_scores.index(max(second_scores))]]\n",
        "  else:\n",
        "    result = [df_key[\"key_product\"][first_scores.index(max(first_scores))], max(first_scores), df_key[\"keyword_count\"][first_scores.index(max(first_scores))]]\n",
        "  x['match'] = result[0]\n",
        "  x['score'] = result[1]\n",
        "  x['keyword'] = result[2]\n",
        "  return result\n",
        "\n",
        "# initiates the correct matching function\n",
        "def master_matching(df, df_key, method, single_pass):\n",
        "  # df: df of procurement object names\n",
        "  # df_key: df of key products+keywords\n",
        "  # method: fuzzywuzzy routine to match strings; 'simple', 'partial', 'sort', or 'set'\n",
        "  # single_pass: whether to run single_pass or double_pass\n",
        "  \n",
        "  if single_pass:\n",
        "    df = df.parallel_apply(single_pass_matching, args=(df_key, fw_routine), axis=1)\n",
        "  else:\n",
        "    df = df.parallel_apply(double_pass_matching, args=(df_key, fw_routine), axis=1)\n",
        "  return df\n",
        "\n",
        "# function to bin the scores to get a summary\n",
        "def bin_scores (df):\n",
        "  my_bins = [0,20,40,60,80,100]\n",
        "  my_labels = [1,2,3,4,5]\n",
        "\n",
        "  df[\"bins\"] = pd.cut(df.score, bins = my_bins, labels = my_labels)\n",
        "  binned = df.groupby(['bins']).agg('count')['objects']\n",
        "  binned = round(binned / binned.sum() * 100) \n",
        "  return binned\n",
        "\n",
        "# output the data into the worksheet\n",
        "def output_to_ws(data, column, ws, row):\n",
        "  #data: df column\n",
        "  #column: string of column index; 'A', 'B', 'C' etc.\n",
        "  #ws: worksheet of interest\n",
        "\n",
        "  cell_list = ws.range(column+str(row)+':'+column+str(len(data)+row-1))\n",
        "  for i in range(len(cell_list)):\n",
        "    try:\n",
        "      cell_list[i].value = float(data[i])\n",
        "    except:\n",
        "      cell_list[i].value = data[i]\n",
        "  ws.update_cells(cell_list)\n",
        "\n",
        "# calculate and populate the admin sheet\n",
        "def admin(start, end, output, wb):\n",
        "  # collect admin info\n",
        "  runtime = \"%s sec\" % (round(end - start,2))\n",
        "  executiontime = datetime.now(pytz.timezone(\"CET\")).strftime(\"%d/%m/%Y %H:%M\")\n",
        "  count = output.objects.count()\n",
        "  binned_scores = bin_scores(output)\n",
        "  # write admin info into spreadsheet\n",
        "  sheet_admin = wb.worksheet(admin_ws)\n",
        "  sheet_admin.update_cell(8,2, executiontime)\n",
        "  sheet_admin.update_cell(9,2, runtime)\n",
        "  sheet_admin.update_cell(10,2, float(count))\n",
        "  # write summary into spreadsheet\n",
        "  sheet_admin.update_cell(12,2, binned_scores[4])\n",
        "  sheet_admin.update_cell(13,2, binned_scores[3])\n",
        "  sheet_admin.update_cell(14,2, binned_scores[2])\n",
        "  sheet_admin.update_cell(15,2, binned_scores[1])\n",
        "  sheet_admin.update_cell(16,2, binned_scores[0])\n",
        "\n",
        "  print (\"Matching Done! Runtime: %s\" % runtime)"
      ],
      "execution_count": null,
      "outputs": []
    },
    {
      "cell_type": "markdown",
      "metadata": {
        "id": "rwGtbqpVIKxV"
      },
      "source": [
        "## **Main**"
      ]
    },
    {
      "cell_type": "code",
      "metadata": {
        "id": "q7X4tfW2aKws",
        "cellView": "form",
        "outputId": "7daca5fd-e617-4d81-f937-004464f8eace",
        "colab": {
          "base_uri": "https://localhost:8080/",
          "height": 34
        }
      },
      "source": [
        "# @markdown This cell runs the matching and outputs the results. Runtime varies depending on the length of the procurement list and the average number of keywords per product.\n",
        "# @markdown * 100 entries: 10 sec\n",
        "# @markdown * 500 entries: 35 sec\n",
        "# @markdown * 1000 entries: 71 sec\n",
        "\n",
        "start = time.time()\n",
        "# Import the procurement data from google sheets\n",
        "wb = gc.open_by_url(analysis_url)\n",
        "sheet = wb.worksheet(analysis_ws)\n",
        "df_proc = pd.DataFrame(sheet.get_all_values(),columns=sheet.row_values(1)).iloc[1:].reset_index(drop=True)\n",
        "df_proc.columns = [\"objects\",\"match\",\"score\",\"manual\"]\n",
        "\n",
        "# make guesses and add them to df_obj\n",
        "output = master_matching(df_proc, df_key, fw_routine, single_pass)\n",
        "\n",
        "# write data into spreadsheet\n",
        "output_to_ws(output['match'], 'B', sheet, 2)\n",
        "output_to_ws(output['score'], 'C', sheet, 2)\n",
        "\n",
        "end = time.time()\n",
        "\n",
        "# write run details to admin sheet\n",
        "admin(start, end, output, wb)\n"
      ],
      "execution_count": null,
      "outputs": [
        {
          "output_type": "stream",
          "text": [
            "Matching Done! Runtime: 7.7 sec\n"
          ],
          "name": "stdout"
        }
      ]
    },
    {
      "cell_type": "code",
      "metadata": {
        "id": "HaLCGCab9zCI"
      },
      "source": [
        ""
      ],
      "execution_count": null,
      "outputs": []
    }
  ]
}